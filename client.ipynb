{
 "cells": [
  {
   "cell_type": "code",
   "execution_count": 12,
   "metadata": {},
   "outputs": [],
   "source": [
    "import threading\n",
    "import grpc\n",
    "import sys\n",
    "sys.path.insert(1,'server')\n",
    "import serverfunc_pb2_grpc\n",
    "import serverfunc_pb2\n",
    "# create a channel\n",
    "host = grpc.insecure_channel('localhost:50051')\n",
    "# create a stub\n",
    "stub = serverfunc_pb2_grpc.MyServiceStub(host)"
   ]
  },
  {
   "cell_type": "code",
   "execution_count": 10,
   "metadata": {},
   "outputs": [],
   "source": [
    "continue_compute = True\n",
    "\n",
    "def stop():\n",
    "    input(\"Press Enter to stop:\")\n",
    "    global continue_compute\n",
    "    continue_compute = False\n",
    "\n",
    "def start_computing():\n",
    "    \n",
    "    global continue_compute\n",
    "    continue_compute = True\n",
    "    \n",
    "    stop_listener = threading.Thread(target=stop)\n",
    "    stop_listener.start()\n",
    "    \n",
    "    while continue_compute:\n",
    "        # option 1\n",
    "        tmp = serverfunc_pb2.Input(num=2 ,tag=1)\n",
    "        results = stub.Compute(tmp)\n",
    "        results = results.intout\n",
    "        print(results)\n",
    "\n",
    "        # option 2\n",
    "        tmp = serverfunc_pb2.Input(num=2 ,tag=2)\n",
    "        results = stub.Compute(tmp)\n",
    "        results = results.listout\n",
    "        print(results)\n",
    "        \n",
    "        # option3\n",
    "        tmp = serverfunc_pb2.Input(num=2 ,tag=3)\n",
    "        results = stub.Compute(tmp)\n",
    "        results = results.sout\n",
    "        print(type(results))\n",
    "\n",
    "        \n",
    "\n",
    "\n",
    "\n",
    "        "
   ]
  },
  {
   "cell_type": "code",
   "execution_count": null,
   "metadata": {},
   "outputs": [],
   "source": []
  }
 ],
 "metadata": {
  "kernelspec": {
   "display_name": "Python 3",
   "language": "python",
   "name": "python3"
  },
  "language_info": {
   "codemirror_mode": {
    "name": "ipython",
    "version": 3
   },
   "file_extension": ".py",
   "mimetype": "text/x-python",
   "name": "python",
   "nbconvert_exporter": "python",
   "pygments_lexer": "ipython3",
   "version": "3.8.12"
  }
 },
 "nbformat": 4,
 "nbformat_minor": 4
}
